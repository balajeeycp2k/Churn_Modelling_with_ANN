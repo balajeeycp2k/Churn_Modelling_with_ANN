{
  "cells": [
    {
      "attachments": {},
      "cell_type": "markdown",
      "metadata": {
        "colab_type": "text",
        "id": "lP6JLo1tGNBg"
      },
      "source": [
        "# Artificial Neural Network"
      ]
    },
    {
      "attachments": {},
      "cell_type": "markdown",
      "metadata": {
        "colab_type": "text",
        "id": "gWZyYmS_UE_L"
      },
      "source": [
        "### Importing the libraries"
      ]
    },
    {
      "cell_type": "code",
      "execution_count": 55,
      "metadata": {
        "colab": {},
        "colab_type": "code",
        "id": "MxkJoQBkUIHC"
      },
      "outputs": [],
      "source": [
        "import numpy as np\n",
        "import pandas as pd\n",
        "import tensorflow as tf\n",
        "from sklearn.preprocessing import StandardScaler\n",
        "from sklearn.model_selection import train_test_split\n",
        "import numpy as np\n",
        "import matplotlib.pyplot as plt\n",
        "import pandas as pd"
      ]
    },
    {
      "cell_type": "code",
      "execution_count": 56,
      "metadata": {
        "colab": {
          "base_uri": "https://localhost:8080/",
          "height": 34
        },
        "colab_type": "code",
        "id": "ZaTwK7ojXr2F",
        "outputId": "0b27a96d-d11a-43e8-ab4b-87c1f01896fe"
      },
      "outputs": [
        {
          "data": {
            "text/plain": [
              "'2.12.0'"
            ]
          },
          "execution_count": 56,
          "metadata": {},
          "output_type": "execute_result"
        }
      ],
      "source": [
        "tf.__version__"
      ]
    },
    {
      "attachments": {},
      "cell_type": "markdown",
      "metadata": {
        "colab_type": "text",
        "id": "1E0Q3aoKUCRX"
      },
      "source": [
        "## Part 1 - Data Preprocessing"
      ]
    },
    {
      "attachments": {},
      "cell_type": "markdown",
      "metadata": {
        "colab_type": "text",
        "id": "cKWAkFVGUU0Z"
      },
      "source": [
        "### Importing the dataset"
      ]
    },
    {
      "cell_type": "code",
      "execution_count": 57,
      "metadata": {
        "colab": {},
        "colab_type": "code",
        "id": "MXUkhkMfU4wq"
      },
      "outputs": [],
      "source": [
        "dataset = pd.read_csv('Churn_Modelling.csv')\n",
        "X = dataset.iloc[:, 3:-1].values\n",
        "y = dataset.iloc[:, -1].values"
      ]
    },
    {
      "cell_type": "code",
      "execution_count": 58,
      "metadata": {
        "colab": {
          "base_uri": "https://localhost:8080/",
          "height": 137
        },
        "colab_type": "code",
        "id": "VYP9cQTWbzuI",
        "outputId": "797e7a64-9bac-436a-8c9c-94437e5e7587"
      },
      "outputs": [
        {
          "name": "stdout",
          "output_type": "stream",
          "text": [
            "[[619 'France' 'Female' ... 1 1 101348.88]\n",
            " [608 'Spain' 'Female' ... 0 1 112542.58]\n",
            " [502 'France' 'Female' ... 1 0 113931.57]\n",
            " ...\n",
            " [709 'France' 'Female' ... 0 1 42085.58]\n",
            " [772 'Germany' 'Male' ... 1 0 92888.52]\n",
            " [792 'France' 'Female' ... 1 0 38190.78]]\n"
          ]
        }
      ],
      "source": [
        "print(X)"
      ]
    },
    {
      "cell_type": "code",
      "execution_count": 59,
      "metadata": {
        "colab": {
          "base_uri": "https://localhost:8080/",
          "height": 34
        },
        "colab_type": "code",
        "id": "38vKGE6Nb2RR",
        "outputId": "a815e42a-e0dd-4cb5-ab97-b17ead98fbc3"
      },
      "outputs": [
        {
          "name": "stdout",
          "output_type": "stream",
          "text": [
            "[1 0 1 ... 1 1 0]\n"
          ]
        }
      ],
      "source": [
        "print(y)"
      ]
    },
    {
      "attachments": {},
      "cell_type": "markdown",
      "metadata": {
        "colab_type": "text",
        "id": "N6bQ0UgSU-NJ"
      },
      "source": [
        "### Encoding categorical data"
      ]
    },
    {
      "attachments": {},
      "cell_type": "markdown",
      "metadata": {
        "colab_type": "text",
        "id": "le5MJreAbW52"
      },
      "source": [
        "Label Encoding the \"Gender\" column"
      ]
    },
    {
      "cell_type": "code",
      "execution_count": 60,
      "metadata": {
        "colab": {},
        "colab_type": "code",
        "id": "PxVKWXxLbczC"
      },
      "outputs": [],
      "source": [
        "from sklearn.preprocessing import LabelEncoder\n",
        "le = LabelEncoder()\n",
        "X[:, 2] = le.fit_transform(X[:, 2])"
      ]
    },
    {
      "cell_type": "code",
      "execution_count": 61,
      "metadata": {
        "colab": {
          "base_uri": "https://localhost:8080/",
          "height": 137
        },
        "colab_type": "code",
        "id": "-M1KboxFb6OO",
        "outputId": "e2b8c7e8-0cbc-4cdf-f4eb-7f0853a00b88"
      },
      "outputs": [
        {
          "name": "stdout",
          "output_type": "stream",
          "text": [
            "[[619 'France' 0 ... 1 1 101348.88]\n",
            " [608 'Spain' 0 ... 0 1 112542.58]\n",
            " [502 'France' 0 ... 1 0 113931.57]\n",
            " ...\n",
            " [709 'France' 0 ... 0 1 42085.58]\n",
            " [772 'Germany' 1 ... 1 0 92888.52]\n",
            " [792 'France' 0 ... 1 0 38190.78]]\n"
          ]
        }
      ],
      "source": [
        "print(X)"
      ]
    },
    {
      "attachments": {},
      "cell_type": "markdown",
      "metadata": {
        "colab_type": "text",
        "id": "CUxGZezpbMcb"
      },
      "source": [
        "One Hot Encoding the \"Geography\" column"
      ]
    },
    {
      "cell_type": "code",
      "execution_count": 62,
      "metadata": {
        "colab": {},
        "colab_type": "code",
        "id": "AMXC8-KMVirw"
      },
      "outputs": [],
      "source": [
        "from sklearn.compose import ColumnTransformer\n",
        "from sklearn.preprocessing import OneHotEncoder\n",
        "ct = ColumnTransformer(transformers=[('encoder', OneHotEncoder(), [1])], remainder='passthrough')\n",
        "X = np.array(ct.fit_transform(X))"
      ]
    },
    {
      "cell_type": "code",
      "execution_count": 63,
      "metadata": {
        "colab": {
          "base_uri": "https://localhost:8080/",
          "height": 137
        },
        "colab_type": "code",
        "id": "ZcxwEon-b8nV",
        "outputId": "23a98af4-5e33-4b26-c27b-f06e3c5d2baf"
      },
      "outputs": [
        {
          "name": "stdout",
          "output_type": "stream",
          "text": [
            "[[1.0 0.0 0.0 ... 1 1 101348.88]\n",
            " [0.0 0.0 1.0 ... 0 1 112542.58]\n",
            " [1.0 0.0 0.0 ... 1 0 113931.57]\n",
            " ...\n",
            " [1.0 0.0 0.0 ... 0 1 42085.58]\n",
            " [0.0 1.0 0.0 ... 1 0 92888.52]\n",
            " [1.0 0.0 0.0 ... 1 0 38190.78]]\n"
          ]
        }
      ],
      "source": [
        "print(X)"
      ]
    },
    {
      "attachments": {},
      "cell_type": "markdown",
      "metadata": {
        "colab_type": "text",
        "id": "vHol938cW8zd"
      },
      "source": [
        "### Splitting the dataset into the Training set and Test set"
      ]
    },
    {
      "cell_type": "code",
      "execution_count": 64,
      "metadata": {
        "colab": {},
        "colab_type": "code",
        "id": "Z-TDt0Y_XEfc"
      },
      "outputs": [],
      "source": [
        "from sklearn.model_selection import train_test_split\n",
        "X_train, X_test, y_train, y_test = train_test_split(X, y, test_size = 0.2, random_state = 0)"
      ]
    },
    {
      "attachments": {},
      "cell_type": "markdown",
      "metadata": {
        "colab_type": "text",
        "id": "RE_FcHyfV3TQ"
      },
      "source": [
        "### Feature Scaling"
      ]
    },
    {
      "cell_type": "code",
      "execution_count": 65,
      "metadata": {
        "colab": {},
        "colab_type": "code",
        "id": "ViCrE00rV8Sk"
      },
      "outputs": [],
      "source": [
        "from sklearn.preprocessing import StandardScaler\n",
        "sc = StandardScaler()\n",
        "X_train = sc.fit_transform(X_train)\n",
        "X_test = sc.transform(X_test)"
      ]
    },
    {
      "attachments": {},
      "cell_type": "markdown",
      "metadata": {
        "colab_type": "text",
        "id": "-zfEzkRVXIwF"
      },
      "source": [
        "## Part 2 - Building the ANN"
      ]
    },
    {
      "attachments": {},
      "cell_type": "markdown",
      "metadata": {
        "colab_type": "text",
        "id": "KvdeScabXtlB"
      },
      "source": [
        "### Initializing the ANN"
      ]
    },
    {
      "cell_type": "code",
      "execution_count": 66,
      "metadata": {
        "colab": {},
        "colab_type": "code",
        "id": "3dtrScHxXQox"
      },
      "outputs": [],
      "source": [
        "ann = tf.keras.models.Sequential()"
      ]
    },
    {
      "attachments": {},
      "cell_type": "markdown",
      "metadata": {
        "colab_type": "text",
        "id": "rP6urV6SX7kS"
      },
      "source": [
        "### Adding the input layer and the first hidden layer"
      ]
    },
    {
      "cell_type": "code",
      "execution_count": 67,
      "metadata": {
        "colab": {},
        "colab_type": "code",
        "id": "bppGycBXYCQr"
      },
      "outputs": [],
      "source": [
        "ann.add(tf.keras.layers.Dense(units=6, activation='relu'))"
      ]
    },
    {
      "attachments": {},
      "cell_type": "markdown",
      "metadata": {
        "colab_type": "text",
        "id": "BELWAc_8YJze"
      },
      "source": [
        "### Adding the second hidden layer"
      ]
    },
    {
      "cell_type": "code",
      "execution_count": 68,
      "metadata": {
        "colab": {},
        "colab_type": "code",
        "id": "JneR0u0sYRTd"
      },
      "outputs": [],
      "source": [
        "ann.add(tf.keras.layers.Dense(units=6, activation='relu'))"
      ]
    },
    {
      "attachments": {},
      "cell_type": "markdown",
      "metadata": {
        "colab_type": "text",
        "id": "OyNEe6RXYcU4"
      },
      "source": [
        "### Adding the output layer"
      ]
    },
    {
      "cell_type": "code",
      "execution_count": 69,
      "metadata": {
        "colab": {},
        "colab_type": "code",
        "id": "Cn3x41RBYfvY"
      },
      "outputs": [],
      "source": [
        "ann.add(tf.keras.layers.Dense(units=1, activation='sigmoid'))"
      ]
    },
    {
      "attachments": {},
      "cell_type": "markdown",
      "metadata": {
        "colab_type": "text",
        "id": "JT4u2S1_Y4WG"
      },
      "source": [
        "## Part 3 - Training the ANN"
      ]
    },
    {
      "attachments": {},
      "cell_type": "markdown",
      "metadata": {
        "colab_type": "text",
        "id": "8GWlJChhY_ZI"
      },
      "source": [
        "### Compiling the ANN"
      ]
    },
    {
      "cell_type": "code",
      "execution_count": 70,
      "metadata": {
        "colab": {},
        "colab_type": "code",
        "id": "fG3RrwDXZEaS"
      },
      "outputs": [],
      "source": [
        "ann.compile(optimizer = 'adam', loss = 'binary_crossentropy', metrics = ['accuracy'])"
      ]
    },
    {
      "attachments": {},
      "cell_type": "markdown",
      "metadata": {
        "colab_type": "text",
        "id": "0QR_G5u7ZLSM"
      },
      "source": [
        "### Training the ANN on the Training set"
      ]
    },
    {
      "cell_type": "code",
      "execution_count": 71,
      "metadata": {
        "colab": {
          "base_uri": "https://localhost:8080/",
          "height": 1000
        },
        "colab_type": "code",
        "id": "nHZ-LKv_ZRb3",
        "outputId": "718cc4b0-b5aa-40f0-9b20-d3d31730a531"
      },
      "outputs": [
        {
          "name": "stdout",
          "output_type": "stream",
          "text": [
            "Epoch 1/100\n"
          ]
        },
        {
          "name": "stdout",
          "output_type": "stream",
          "text": [
            "250/250 [==============================] - 1s 679us/step - loss: 0.5158 - accuracy: 0.7960\n",
            "Epoch 2/100\n",
            "250/250 [==============================] - 0s 669us/step - loss: 0.4615 - accuracy: 0.7960\n",
            "Epoch 3/100\n",
            "250/250 [==============================] - 0s 663us/step - loss: 0.4448 - accuracy: 0.7960\n",
            "Epoch 4/100\n",
            "250/250 [==============================] - 0s 671us/step - loss: 0.4370 - accuracy: 0.7960\n",
            "Epoch 5/100\n",
            "250/250 [==============================] - 0s 671us/step - loss: 0.4326 - accuracy: 0.7960\n",
            "Epoch 6/100\n",
            "250/250 [==============================] - 0s 689us/step - loss: 0.4295 - accuracy: 0.7984\n",
            "Epoch 7/100\n",
            "250/250 [==============================] - 0s 671us/step - loss: 0.4266 - accuracy: 0.8106\n",
            "Epoch 8/100\n",
            "250/250 [==============================] - 0s 671us/step - loss: 0.4242 - accuracy: 0.8126\n",
            "Epoch 9/100\n",
            "250/250 [==============================] - 0s 671us/step - loss: 0.4221 - accuracy: 0.8161\n",
            "Epoch 10/100\n",
            "250/250 [==============================] - 0s 680us/step - loss: 0.4201 - accuracy: 0.8198\n",
            "Epoch 11/100\n",
            "250/250 [==============================] - 0s 699us/step - loss: 0.4181 - accuracy: 0.8230\n",
            "Epoch 12/100\n",
            "250/250 [==============================] - 0s 695us/step - loss: 0.4167 - accuracy: 0.8273\n",
            "Epoch 13/100\n",
            "250/250 [==============================] - 0s 675us/step - loss: 0.4152 - accuracy: 0.8259\n",
            "Epoch 14/100\n",
            "250/250 [==============================] - 0s 663us/step - loss: 0.4139 - accuracy: 0.8279\n",
            "Epoch 15/100\n",
            "250/250 [==============================] - 0s 667us/step - loss: 0.4124 - accuracy: 0.8281\n",
            "Epoch 16/100\n",
            "250/250 [==============================] - 0s 667us/step - loss: 0.4112 - accuracy: 0.8290\n",
            "Epoch 17/100\n",
            "250/250 [==============================] - 0s 663us/step - loss: 0.4102 - accuracy: 0.8310\n",
            "Epoch 18/100\n",
            "250/250 [==============================] - 0s 668us/step - loss: 0.4091 - accuracy: 0.8306\n",
            "Epoch 19/100\n",
            "250/250 [==============================] - 0s 667us/step - loss: 0.4080 - accuracy: 0.8324\n",
            "Epoch 20/100\n",
            "250/250 [==============================] - 0s 675us/step - loss: 0.4072 - accuracy: 0.8309\n",
            "Epoch 21/100\n",
            "250/250 [==============================] - 0s 663us/step - loss: 0.4064 - accuracy: 0.8313\n",
            "Epoch 22/100\n",
            "250/250 [==============================] - 0s 675us/step - loss: 0.4058 - accuracy: 0.8314\n",
            "Epoch 23/100\n",
            "250/250 [==============================] - 0s 667us/step - loss: 0.4049 - accuracy: 0.8320\n",
            "Epoch 24/100\n",
            "250/250 [==============================] - 0s 675us/step - loss: 0.4039 - accuracy: 0.8326\n",
            "Epoch 25/100\n",
            "250/250 [==============================] - 0s 687us/step - loss: 0.4033 - accuracy: 0.8339\n",
            "Epoch 26/100\n",
            "250/250 [==============================] - 0s 823us/step - loss: 0.4026 - accuracy: 0.8344\n",
            "Epoch 27/100\n",
            "250/250 [==============================] - 0s 691us/step - loss: 0.4019 - accuracy: 0.8331\n",
            "Epoch 28/100\n",
            "250/250 [==============================] - 0s 723us/step - loss: 0.4011 - accuracy: 0.8342\n",
            "Epoch 29/100\n",
            "250/250 [==============================] - 0s 735us/step - loss: 0.4008 - accuracy: 0.8339\n",
            "Epoch 30/100\n",
            "250/250 [==============================] - 0s 803us/step - loss: 0.4002 - accuracy: 0.8346\n",
            "Epoch 31/100\n",
            "250/250 [==============================] - 0s 719us/step - loss: 0.3991 - accuracy: 0.8346\n",
            "Epoch 32/100\n",
            "250/250 [==============================] - 0s 803us/step - loss: 0.3988 - accuracy: 0.8355\n",
            "Epoch 33/100\n",
            "250/250 [==============================] - 0s 731us/step - loss: 0.3980 - accuracy: 0.8347\n",
            "Epoch 34/100\n",
            "250/250 [==============================] - 0s 655us/step - loss: 0.3977 - accuracy: 0.8341\n",
            "Epoch 35/100\n",
            "250/250 [==============================] - 0s 659us/step - loss: 0.3970 - accuracy: 0.8359\n",
            "Epoch 36/100\n",
            "250/250 [==============================] - 0s 671us/step - loss: 0.3969 - accuracy: 0.8366\n",
            "Epoch 37/100\n",
            "250/250 [==============================] - 0s 663us/step - loss: 0.3965 - accuracy: 0.8354\n",
            "Epoch 38/100\n",
            "250/250 [==============================] - 0s 695us/step - loss: 0.3962 - accuracy: 0.8364\n",
            "Epoch 39/100\n",
            "250/250 [==============================] - 0s 743us/step - loss: 0.3958 - accuracy: 0.8365\n",
            "Epoch 40/100\n",
            "250/250 [==============================] - 0s 691us/step - loss: 0.3956 - accuracy: 0.8360\n",
            "Epoch 41/100\n",
            "250/250 [==============================] - 0s 668us/step - loss: 0.3953 - accuracy: 0.8371\n",
            "Epoch 42/100\n",
            "250/250 [==============================] - 0s 659us/step - loss: 0.3948 - accuracy: 0.8369\n",
            "Epoch 43/100\n",
            "250/250 [==============================] - 0s 727us/step - loss: 0.3947 - accuracy: 0.8356\n",
            "Epoch 44/100\n",
            "250/250 [==============================] - 0s 663us/step - loss: 0.3941 - accuracy: 0.8364\n",
            "Epoch 45/100\n",
            "250/250 [==============================] - 0s 679us/step - loss: 0.3941 - accuracy: 0.8361\n",
            "Epoch 46/100\n",
            "250/250 [==============================] - 0s 659us/step - loss: 0.3937 - accuracy: 0.8371\n",
            "Epoch 47/100\n",
            "250/250 [==============================] - 0s 675us/step - loss: 0.3935 - accuracy: 0.8371\n",
            "Epoch 48/100\n",
            "250/250 [==============================] - 0s 671us/step - loss: 0.3931 - accuracy: 0.8366\n",
            "Epoch 49/100\n",
            "250/250 [==============================] - 0s 623us/step - loss: 0.3930 - accuracy: 0.8375\n",
            "Epoch 50/100\n",
            "250/250 [==============================] - 0s 675us/step - loss: 0.3927 - accuracy: 0.8371\n",
            "Epoch 51/100\n",
            "250/250 [==============================] - 0s 647us/step - loss: 0.3922 - accuracy: 0.8372\n",
            "Epoch 52/100\n",
            "250/250 [==============================] - 0s 691us/step - loss: 0.3921 - accuracy: 0.8371\n",
            "Epoch 53/100\n",
            "250/250 [==============================] - 0s 659us/step - loss: 0.3920 - accuracy: 0.8375\n",
            "Epoch 54/100\n",
            "250/250 [==============================] - 0s 639us/step - loss: 0.3918 - accuracy: 0.8369\n",
            "Epoch 55/100\n",
            "250/250 [==============================] - 0s 767us/step - loss: 0.3917 - accuracy: 0.8370\n",
            "Epoch 56/100\n",
            "250/250 [==============================] - 0s 691us/step - loss: 0.3913 - accuracy: 0.8378\n",
            "Epoch 57/100\n",
            "250/250 [==============================] - 0s 720us/step - loss: 0.3914 - accuracy: 0.8374\n",
            "Epoch 58/100\n",
            "250/250 [==============================] - 0s 669us/step - loss: 0.3910 - accuracy: 0.8366\n",
            "Epoch 59/100\n",
            "250/250 [==============================] - 0s 711us/step - loss: 0.3913 - accuracy: 0.8374\n",
            "Epoch 60/100\n",
            "250/250 [==============================] - 0s 667us/step - loss: 0.3908 - accuracy: 0.8380\n",
            "Epoch 61/100\n",
            "250/250 [==============================] - 0s 643us/step - loss: 0.3907 - accuracy: 0.8371\n",
            "Epoch 62/100\n",
            "250/250 [==============================] - 0s 647us/step - loss: 0.3905 - accuracy: 0.8378\n",
            "Epoch 63/100\n",
            "250/250 [==============================] - 0s 699us/step - loss: 0.3907 - accuracy: 0.8367\n",
            "Epoch 64/100\n",
            "250/250 [==============================] - 0s 643us/step - loss: 0.3901 - accuracy: 0.8361\n",
            "Epoch 65/100\n",
            "250/250 [==============================] - 0s 647us/step - loss: 0.3902 - accuracy: 0.8378\n",
            "Epoch 66/100\n",
            "250/250 [==============================] - 0s 639us/step - loss: 0.3903 - accuracy: 0.8379\n",
            "Epoch 67/100\n",
            "250/250 [==============================] - 0s 631us/step - loss: 0.3902 - accuracy: 0.8376\n",
            "Epoch 68/100\n",
            "250/250 [==============================] - 0s 635us/step - loss: 0.3895 - accuracy: 0.8374\n",
            "Epoch 69/100\n",
            "250/250 [==============================] - 0s 827us/step - loss: 0.3897 - accuracy: 0.8375\n",
            "Epoch 70/100\n",
            "250/250 [==============================] - 0s 711us/step - loss: 0.3898 - accuracy: 0.8379\n",
            "Epoch 71/100\n",
            "250/250 [==============================] - 0s 635us/step - loss: 0.3895 - accuracy: 0.8379\n",
            "Epoch 72/100\n",
            "250/250 [==============================] - 0s 639us/step - loss: 0.3894 - accuracy: 0.8376\n",
            "Epoch 73/100\n",
            "250/250 [==============================] - 0s 643us/step - loss: 0.3896 - accuracy: 0.8369\n",
            "Epoch 74/100\n",
            "250/250 [==============================] - 0s 663us/step - loss: 0.3895 - accuracy: 0.8379\n",
            "Epoch 75/100\n",
            "250/250 [==============================] - 0s 667us/step - loss: 0.3891 - accuracy: 0.8372\n",
            "Epoch 76/100\n",
            "250/250 [==============================] - 0s 647us/step - loss: 0.3892 - accuracy: 0.8370\n",
            "Epoch 77/100\n",
            "250/250 [==============================] - 0s 675us/step - loss: 0.3886 - accuracy: 0.8386\n",
            "Epoch 78/100\n",
            "250/250 [==============================] - 0s 651us/step - loss: 0.3895 - accuracy: 0.8389\n",
            "Epoch 79/100\n",
            "250/250 [==============================] - 0s 647us/step - loss: 0.3891 - accuracy: 0.8372\n",
            "Epoch 80/100\n",
            "250/250 [==============================] - 0s 637us/step - loss: 0.3888 - accuracy: 0.8374\n",
            "Epoch 81/100\n",
            "250/250 [==============================] - 0s 643us/step - loss: 0.3890 - accuracy: 0.8390\n",
            "Epoch 82/100\n",
            "250/250 [==============================] - 0s 622us/step - loss: 0.3886 - accuracy: 0.8378\n",
            "Epoch 83/100\n",
            "250/250 [==============================] - 0s 672us/step - loss: 0.3890 - accuracy: 0.8381\n",
            "Epoch 84/100\n",
            "250/250 [==============================] - 0s 639us/step - loss: 0.3889 - accuracy: 0.8372\n",
            "Epoch 85/100\n",
            "250/250 [==============================] - 0s 660us/step - loss: 0.3890 - accuracy: 0.8385\n",
            "Epoch 86/100\n",
            "250/250 [==============================] - 0s 731us/step - loss: 0.3888 - accuracy: 0.8376\n",
            "Epoch 87/100\n",
            "250/250 [==============================] - 0s 699us/step - loss: 0.3888 - accuracy: 0.8379\n",
            "Epoch 88/100\n",
            "250/250 [==============================] - 0s 683us/step - loss: 0.3888 - accuracy: 0.8382\n",
            "Epoch 89/100\n",
            "250/250 [==============================] - 0s 788us/step - loss: 0.3889 - accuracy: 0.8382\n",
            "Epoch 90/100\n",
            "250/250 [==============================] - 0s 675us/step - loss: 0.3887 - accuracy: 0.8386\n",
            "Epoch 91/100\n",
            "250/250 [==============================] - 0s 647us/step - loss: 0.3885 - accuracy: 0.8378\n",
            "Epoch 92/100\n",
            "250/250 [==============================] - 0s 639us/step - loss: 0.3887 - accuracy: 0.8376\n",
            "Epoch 93/100\n",
            "250/250 [==============================] - 0s 714us/step - loss: 0.3886 - accuracy: 0.8381\n",
            "Epoch 94/100\n",
            "250/250 [==============================] - 0s 651us/step - loss: 0.3886 - accuracy: 0.8370\n",
            "Epoch 95/100\n",
            "250/250 [==============================] - 0s 739us/step - loss: 0.3886 - accuracy: 0.8380\n",
            "Epoch 96/100\n",
            "250/250 [==============================] - 0s 735us/step - loss: 0.3887 - accuracy: 0.8361\n",
            "Epoch 97/100\n",
            "250/250 [==============================] - 0s 768us/step - loss: 0.3884 - accuracy: 0.8376\n",
            "Epoch 98/100\n",
            "250/250 [==============================] - 0s 683us/step - loss: 0.3884 - accuracy: 0.8380\n",
            "Epoch 99/100\n",
            "250/250 [==============================] - 0s 659us/step - loss: 0.3886 - accuracy: 0.8381\n",
            "Epoch 100/100\n",
            "250/250 [==============================] - 0s 635us/step - loss: 0.3886 - accuracy: 0.8376\n"
          ]
        },
        {
          "data": {
            "text/plain": [
              "<keras.callbacks.History at 0x1d16cdfc7d0>"
            ]
          },
          "execution_count": 71,
          "metadata": {},
          "output_type": "execute_result"
        }
      ],
      "source": [
        "ann.fit(X_train, y_train, batch_size = 32, epochs = 100)"
      ]
    },
    {
      "attachments": {},
      "cell_type": "markdown",
      "metadata": {
        "colab_type": "text",
        "id": "tJj5k2MxZga3"
      },
      "source": [
        "## Part 4 - Making the predictions and evaluating the model"
      ]
    },
    {
      "attachments": {},
      "cell_type": "markdown",
      "metadata": {
        "colab_type": "text",
        "id": "84QFoqGYeXHL"
      },
      "source": [
        "### Predicting the result of a single observation"
      ]
    },
    {
      "attachments": {},
      "cell_type": "markdown",
      "metadata": {
        "colab_type": "text",
        "id": "CGRo3eacgDdC"
      },
      "source": [
        "\n",
        "\n",
        "Use our ANN model to predict if the customer with the following informations will leave the bank: \n",
        "\n",
        "Geography: France\n",
        "\n",
        "Credit Score: 600\n",
        "\n",
        "Gender: Male\n",
        "\n",
        "Age: 40 years old\n",
        "\n",
        "Tenure: 3 years\n",
        "\n",
        "Balance: \\$ 60000\n",
        "\n",
        "Number of Products: 2\n",
        "\n",
        "Does this customer have a credit card ? Yes\n",
        "\n",
        "Is this customer an Active Member: Yes\n",
        "\n",
        "Estimated Salary: \\$ 50000\n",
        "\n",
        "So, should we say goodbye to that customer ?"
      ]
    },
    {
      "attachments": {},
      "cell_type": "markdown",
      "metadata": {
        "colab_type": "text",
        "id": "ZhU1LTgPg-kH"
      },
      "source": [
        "**Solution**"
      ]
    },
    {
      "cell_type": "code",
      "execution_count": 72,
      "metadata": {
        "colab": {
          "base_uri": "https://localhost:8080/",
          "height": 34
        },
        "colab_type": "code",
        "id": "2d8IoCCkeWGL",
        "outputId": "957f3970-e197-4c3b-a150-7f69dc567f5d"
      },
      "outputs": [
        {
          "name": "stdout",
          "output_type": "stream",
          "text": [
            "1/1 [==============================] - 0s 60ms/step\n",
            "[[False]]\n"
          ]
        }
      ],
      "source": [
        "print(ann.predict(sc.transform([[0.0, 0, 0, 600, 1, 40, 3, 60000, 2, 1, 1, 50000]])) > 0.5)"
      ]
    },
    {
      "attachments": {},
      "cell_type": "markdown",
      "metadata": {
        "colab_type": "text",
        "id": "wGjx94g2n7OV"
      },
      "source": [
        "Therefore, our ANN model predicts that this customer stays in the bank!\n",
        "\n",
        "**Important note 1:** Notice that the values of the features were all input in a double pair of square brackets. That's because the \"predict\" method always expects a 2D array as the format of its inputs. And putting our values into a double pair of square brackets makes the input exactly a 2D array.\n",
        "\n",
        "**Important note 2:** Notice also that the \"France\" country was not input as a string in the last column but as \"1, 0, 0\" in the first three columns. That's because of course the predict method expects the one-hot-encoded values of the state, and as we see in the first row of the matrix of features X, \"France\" was encoded as \"1, 0, 0\". And be careful to include these values in the first three columns, because the dummy variables are always created in the first columns."
      ]
    },
    {
      "attachments": {},
      "cell_type": "markdown",
      "metadata": {
        "colab_type": "text",
        "id": "u7yx47jPZt11"
      },
      "source": [
        "### Predicting the Test set results"
      ]
    },
    {
      "cell_type": "code",
      "execution_count": 73,
      "metadata": {
        "colab": {
          "base_uri": "https://localhost:8080/",
          "height": 137
        },
        "colab_type": "code",
        "id": "nIyEeQdRZwgs",
        "outputId": "82330ba8-9bdc-4fd1-d3cf-b6d78ee7c2a3"
      },
      "outputs": [
        {
          "name": "stdout",
          "output_type": "stream",
          "text": [
            "63/63 [==============================] - 0s 581us/step\n",
            "[[0 0]\n",
            " [0 1]\n",
            " [0 0]\n",
            " ...\n",
            " [0 0]\n",
            " [0 0]\n",
            " [0 0]]\n"
          ]
        }
      ],
      "source": [
        "y_pred = ann.predict(X_test)\n",
        "y_pred = (y_pred > 0.5)\n",
        "print(np.concatenate((y_pred.reshape(len(y_pred),1), y_test.reshape(len(y_test),1)),1))"
      ]
    },
    {
      "attachments": {},
      "cell_type": "markdown",
      "metadata": {
        "colab_type": "text",
        "id": "o0oyfLWoaEGw"
      },
      "source": [
        "### Making the Confusion Matrix"
      ]
    },
    {
      "cell_type": "code",
      "execution_count": 74,
      "metadata": {
        "colab": {
          "base_uri": "https://localhost:8080/",
          "height": 68
        },
        "colab_type": "code",
        "id": "ci6K_r6LaF6P",
        "outputId": "4d854e9e-22d5-432f-f6e5-a102fe3ae0bd"
      },
      "outputs": [
        {
          "name": "stdout",
          "output_type": "stream",
          "text": [
            "[[1549   46]\n",
            " [ 262  143]]\n"
          ]
        },
        {
          "data": {
            "text/plain": [
              "0.846"
            ]
          },
          "execution_count": 74,
          "metadata": {},
          "output_type": "execute_result"
        }
      ],
      "source": [
        "from sklearn.metrics import confusion_matrix, accuracy_score\n",
        "cm = confusion_matrix(y_test, y_pred)\n",
        "print(cm)\n",
        "accuracy_score(y_test, y_pred)"
      ]
    },
    {
      "cell_type": "code",
      "execution_count": 75,
      "metadata": {},
      "outputs": [],
      "source": [
        "# Evaluating, improving and tuning the ANN\n",
        "# Evaluating the ANN\n",
        "from keras.wrappers.scikit_learn import KerasClassifier \n",
        "from sklearn.model_selection import cross_val_score \n"
      ]
    },
    {
      "cell_type": "code",
      "execution_count": 76,
      "metadata": {},
      "outputs": [
        {
          "name": "stderr",
          "output_type": "stream",
          "text": [
            "C:\\Users\\Happy - Home\\AppData\\Local\\Temp\\ipykernel_7444\\4280449037.py:8: DeprecationWarning: KerasClassifier is deprecated, use Sci-Keras (https://github.com/adriangb/scikeras) instead. See https://www.adriangb.com/scikeras/stable/migration.html for help migrating.\n",
            "  ann=KerasClassifier(build_fn=build_classifier,batch_size=10,nb_epoch=100)\n"
          ]
        }
      ],
      "source": [
        "def build_classifier ():\n",
        "    ann = tf.keras.models.Sequential()\n",
        "    ann.add(tf.keras.layers.Dense(units=6, activation='relu'))\n",
        "    ann.add(tf.keras.layers.Dense(units=6, activation='relu'))\n",
        "    ann.add(tf.keras.layers.Dense(units=1, activation='sigmoid'))\n",
        "    ann.compile(optimizer = 'adam', loss = 'binary_crossentropy', metrics = ['accuracy'])\n",
        "    return ann\n",
        "ann=KerasClassifier(build_fn=build_classifier,batch_size=10,nb_epoch=100)"
      ]
    },
    {
      "cell_type": "code",
      "execution_count": 77,
      "metadata": {},
      "outputs": [
        {
          "name": "stdout",
          "output_type": "stream",
          "text": [
            "720/720 [==============================] - 1s 654us/step - loss: 0.5292 - accuracy: 0.7650\n",
            "80/80 [==============================] - 0s 633us/step - loss: 0.4890 - accuracy: 0.7862\n",
            "720/720 [==============================] - 1s 680us/step - loss: 0.5713 - accuracy: 0.7139\n",
            "80/80 [==============================] - 0s 620us/step - loss: 0.4665 - accuracy: 0.7900\n",
            "720/720 [==============================] - 1s 716us/step - loss: 0.5014 - accuracy: 0.7949\n",
            "80/80 [==============================] - 0s 608us/step - loss: 0.4475 - accuracy: 0.8000\n",
            "720/720 [==============================] - 2s 669us/step - loss: 0.5809 - accuracy: 0.7229\n",
            "80/80 [==============================] - 0s 671us/step - loss: 0.5075 - accuracy: 0.7987\n",
            "720/720 [==============================] - 1s 678us/step - loss: 0.4880 - accuracy: 0.7933\n",
            "80/80 [==============================] - 0s 633us/step - loss: 0.3988 - accuracy: 0.8213\n",
            "720/720 [==============================] - 1s 663us/step - loss: 0.6189 - accuracy: 0.7442\n",
            "80/80 [==============================] - 0s 633us/step - loss: 0.5115 - accuracy: 0.8100\n",
            "720/720 [==============================] - 1s 660us/step - loss: 0.4992 - accuracy: 0.7949\n",
            "80/80 [==============================] - 0s 633us/step - loss: 0.4605 - accuracy: 0.7875\n",
            "720/720 [==============================] - 1s 657us/step - loss: 0.5336 - accuracy: 0.7921\n",
            "80/80 [==============================] - 0s 633us/step - loss: 0.4738 - accuracy: 0.7937\n",
            "720/720 [==============================] - 1s 657us/step - loss: 0.5447 - accuracy: 0.7507\n",
            "80/80 [==============================] - 0s 633us/step - loss: 0.4741 - accuracy: 0.8037\n",
            "720/720 [==============================] - 2s 686us/step - loss: 0.4996 - accuracy: 0.7887\n",
            "80/80 [==============================] - 0s 658us/step - loss: 0.4362 - accuracy: 0.7987\n"
          ]
        }
      ],
      "source": [
        "accu=cross_val_score(estimator=ann, X=X_train,y=y_train,cv=10)"
      ]
    },
    {
      "cell_type": "code",
      "execution_count": 78,
      "metadata": {},
      "outputs": [
        {
          "name": "stdout",
          "output_type": "stream",
          "text": [
            "0.7990000009536743\n",
            "0.01021334987243157\n"
          ]
        }
      ],
      "source": [
        "mean=accu.mean()\n",
        "variance=accu.std()\n",
        "print(mean)\n",
        "print(variance)"
      ]
    },
    {
      "cell_type": "code",
      "execution_count": 114,
      "metadata": {},
      "outputs": [
        {
          "data": {
            "image/png": "[encoded data removed]",
            "text/plain": [
              "<Figure size 640x480 with 1 Axes>"
            ]
          },
          "metadata": {},
          "output_type": "display_data"
        }
      ],
      "source": [
        "# Training the ANN on the Training set\n",
        "# history = ann.fit(X_train, y_train, batch_size=32, epochs=100, validation_data=(X_test, y_test))\n",
        "\n",
        "# Plotting the accuracy\n",
        "plt.plot(history.history['accuracy'])\n",
        "plt.plot(history.history['val_accuracy'])\n",
        "plt.title('Model Accuracy')\n",
        "plt.xlabel('Epochs')\n",
        "plt.ylabel('Accuracy')\n",
        "plt.legend(['Train', 'Test'])\n",
        "plt.show()\n",
        "\n",
        "\n"
      ]
    },
    {
      "cell_type": "code",
      "execution_count": 115,
      "metadata": {},
      "outputs": [
        {
          "data": {
            "image/png": "[encoded data removed]",
            "text/plain": [
              "<Figure size 640x480 with 1 Axes>"
            ]
          },
          "metadata": {},
          "output_type": "display_data"
        }
      ],
      "source": [
        "# Plotting the accuracy\n",
        "plt.plot(history.history['accuracy'])\n",
        "plt.plot(history.history['val_accuracy'])\n",
        "plt.title('Model Accuracy')\n",
        "plt.xlabel('Epochs')\n",
        "plt.ylabel('Accuracy')\n",
        "plt.grid(True)  # Add grid lines\n",
        "plt.legend(['Train', 'Test'])\n",
        "\n",
        "# Add axis labels\n",
        "plt.xlabel('Epochs')\n",
        "plt.ylabel('Accuracy')\n",
        "\n",
        "# Add legend and position it at the upper left corner\n",
        "plt.legend(['Train', 'Test'], loc='upper left')\n",
        "\n",
        "# Add a horizontal line for the general threshold value\n",
        "plt.axhline(y=0.5, color='g', linestyle='--', label='Threshold')\n",
        "\n",
        "plt.show()"
      ]
    },
    {
      "cell_type": "code",
      "execution_count": 118,
      "metadata": {},
      "outputs": [
        {
          "data": {
            "image/png": "[encoded data removed]",
            "text/plain": [
              "<Figure size 1200x600 with 2 Axes>"
            ]
          },
          "metadata": {},
          "output_type": "display_data"
        }
      ],
      "source": [
        "# Training the ANN on the Training set\n",
        "# history = ann.fit(X_train, y_train, batch_size=32, epochs=100, validation_data=(X_test, y_test))\n",
        "\n",
        "# Plotting the accuracy and loss\n",
        "plt.figure(figsize=(12, 6))\n",
        "plt.subplot(1, 2, 1)\n",
        "plt.plot(history.history['accuracy'])\n",
        "plt.plot(history.history['val_accuracy'])\n",
        "plt.title('Model Accuracy')\n",
        "plt.xlabel('Epochs')\n",
        "plt.ylabel('Accuracy')\n",
        "plt.legend(['Train', 'Test'])\n",
        "\n",
        "plt.subplot(1, 2, 2)\n",
        "plt.plot(history.history['loss'])\n",
        "plt.plot(history.history['val_loss'])\n",
        "plt.title('Model Loss')\n",
        "plt.xlabel('Epochs')\n",
        "plt.ylabel('Loss')\n",
        "plt.legend(['Train', 'Test'])\n",
        "\n",
        "plt.tight_layout()\n",
        "plt.show()\n"
      ]
    },
    {
      "cell_type": "code",
      "execution_count": 125,
      "metadata": {},
      "outputs": [
        {
          "data": {
            "image/png": "[encoded data removed]",
            "text/plain": [
              "<Figure size 800x600 with 2 Axes>"
            ]
          },
          "metadata": {},
          "output_type": "display_data"
        },
        {
          "name": "stdout",
          "output_type": "stream",
          "text": [
            "True Positives: 1508\n",
            "True Negatives: 87\n",
            "False Positives: 194\n",
            "False Negatives: 211\n"
          ]
        }
      ],
      "source": [
        "# Creating the confusion matrix\n",
        "import seaborn as sns\n",
        "cm = confusion_matrix(y_test, y_pred)\n",
        "plt.figure(figsize=(8, 6))\n",
        "sns.heatmap(cm, annot=True, fmt=\"d\", cmap=\"Greens\")\n",
        "plt.title(\"Confusion Matrix\")\n",
        "plt.xlabel(\"Predicted\")\n",
        "plt.ylabel(\"Actual\")\n",
        "plt.show()\n",
        "\n",
        "# Extracting TP, TN, FP, FN values\n",
        "tp,tn, fp, fn = cm.ravel()\n",
        "\n",
        "# Printing the values\n",
        "print(\"True Positives:\", tp)\n",
        "print(\"True Negatives:\", tn)\n",
        "print(\"False Positives:\", fp)\n",
        "print(\"False Negatives:\", fn)"
      ]
    },
    {
      "cell_type": "code",
      "execution_count": 94,
      "metadata": {},
      "outputs": [
        {
          "name": "stdout",
          "output_type": "stream",
          "text": [
            "63/63 [==============================] - 0s 661us/step\n",
            "Precision: 0.7080536912751678\n",
            "Recall: 0.5209876543209877\n",
            "Model Accepted\n"
          ]
        }
      ],
      "source": [
        "from sklearn.metrics import precision_score, recall_score\n",
        "\n",
        "# Set the desired threshold values for precision and recall\n",
        "precision_threshold = 0.5\n",
        "recall_threshold = 0.5\n",
        "\n",
        "# Predicting the Test set results\n",
        "y_pred = ann.predict(X_test)\n",
        "y_pred = (y_pred > 0.5)\n",
        "\n",
        "# Calculating precision and recall\n",
        "precision = precision_score(y_test, y_pred)\n",
        "recall = recall_score(y_test, y_pred)\n",
        "\n",
        "print(\"Precision:\", precision)\n",
        "print(\"Recall:\", recall)\n",
        "\n",
        "# Accept or reject the model based on precision and recall\n",
        "if precision >= precision_threshold and recall >= recall_threshold:\n",
        "    print(\"Model Accepted\")\n",
        "else:\n",
        "    print(\"Model Rejected\")\n"
      ]
    },
    {
      "cell_type": "code",
      "execution_count": 103,
      "metadata": {},
      "outputs": [
        {
          "name": "stdout",
          "output_type": "stream",
          "text": [
            "F1 Score: 0.6002844950213372\n"
          ]
        }
      ],
      "source": [
        "from sklearn.metrics import f1_score\n",
        "\n",
        "# Assuming y_test and y_pred are the true labels and predicted labels, respectively\n",
        "\n",
        "# Convert the boolean array y_pred to integer (0s and 1s)\n",
        "y_pred_int = y_pred.astype(int)\n",
        "\n",
        "# Calculate the F1 score\n",
        "f1 = f1_score(y_test, y_pred_int)\n",
        "\n",
        "print(\"F1 Score:\", f1)\n"
      ]
    },
    {
      "cell_type": "code",
      "execution_count": 108,
      "metadata": {},
      "outputs": [
        {
          "data": {
            "image/png": "[encoded data removed]",
            "text/plain": [
              "<Figure size 640x480 with 1 Axes>"
            ]
          },
          "metadata": {},
          "output_type": "display_data"
        }
      ],
      "source": [
        "from sklearn.metrics import f1_score\n",
        "import matplotlib.pyplot as plt\n",
        "\n",
        "# Calculate F1 score\n",
        "f1 = f1_score(y_test, y_pred)\n",
        "\n",
        "# Create a bar plot to visualize the F1 score\n",
        "fig, ax = plt.subplots()\n",
        "ax.bar(['F1 Score'], [f1])\n",
        "ax.set_ylim([0, 1])  # Set y-axis limits\n",
        "ax.set_ylabel('Score')\n",
        "ax.set_title('F1 Score')\n",
        "plt.show()\n"
      ]
    }
  ],
  "metadata": {
    "colab": {
      "collapsed_sections": [],
      "name": "artificial_neural_network.ipynb",
      "provenance": [],
      "toc_visible": true
    },
    "kernelspec": {
      "display_name": "Python 3",
      "name": "python3"
    },
    "language_info": {
      "codemirror_mode": {
        "name": "ipython",
        "version": 3
      },
      "file_extension": ".py",
      "mimetype": "text/x-python",
      "name": "python",
      "nbconvert_exporter": "python",
      "pygments_lexer": "ipython3",
      "version": "3.11.1"
    }
  },
  "nbformat": 4,
  "nbformat_minor": 0
}
